{
  "nbformat": 4,
  "nbformat_minor": 0,
  "metadata": {
    "colab": {
      "name": "Dogs and cats Image Classification -CNN.ipynb",
      "private_outputs": true,
      "provenance": [],
      "authorship_tag": "ABX9TyPL44DNmvIpH3Kn4bo9QTon",
      "include_colab_link": true
    },
    "kernelspec": {
      "name": "python3",
      "display_name": "Python 3"
    },
    "language_info": {
      "name": "python"
    },
    "accelerator": "GPU",
    "gpuClass": "standard"
  },
  "cells": [
    {
      "cell_type": "markdown",
      "metadata": {
        "id": "view-in-github",
        "colab_type": "text"
      },
      "source": [
        "<a href=\"https://colab.research.google.com/github/mounilanka/Dogs-and-cats-classification/blob/main/Dogs_and_cats_Image_Classification_CNN.ipynb\" target=\"_parent\"><img src=\"https://colab.research.google.com/assets/colab-badge.svg\" alt=\"Open In Colab\"/></a>"
      ]
    },
    {
      "cell_type": "code",
      "execution_count": null,
      "metadata": {
        "id": "Km44WPEo47CN"
      },
      "outputs": [],
      "source": [
        ""
      ]
    },
    {
      "cell_type": "markdown",
      "source": [
        "Dataset *Information"
      ],
      "metadata": {
        "id": "CJ213XZYZI_S"
      }
    },
    {
      "cell_type": "code",
      "source": [
        "#The training archive contains 25,000 images of dogs and cats .Train your algorithm on these files and predict the labels for test1.zip\n",
        "#(1=dog, 0 = cat)"
      ],
      "metadata": {
        "id": "iU_5xPBoZOq1"
      },
      "execution_count": null,
      "outputs": []
    },
    {
      "cell_type": "markdown",
      "source": [
        "##Download Dataset\n",
        "\n",
        "\n",
        "\n"
      ],
      "metadata": {
        "id": "_2QohFOYMWcT"
      }
    },
    {
      "cell_type": "code",
      "source": [
        "!wget https://download.microsoft.com/download/3/E/1/3E1C3F21-ECDB-4869-8368-6DEBA77B919F/kagglecatsanddogs_5340.zip"
      ],
      "metadata": {
        "id": "vq6IWWeN5cpG"
      },
      "execution_count": null,
      "outputs": []
    },
    {
      "cell_type": "code",
      "source": [
        ""
      ],
      "metadata": {
        "id": "xG6S_vYM5h0t"
      },
      "execution_count": null,
      "outputs": []
    },
    {
      "cell_type": "markdown",
      "source": [
        "Unzip the Dataset"
      ],
      "metadata": {
        "id": "7s31p3V95y7n"
      }
    },
    {
      "cell_type": "code",
      "source": [
        "!unzip  kagglecatsanddogs_5340.zip"
      ],
      "metadata": {
        "id": "SAhZayHX50N8"
      },
      "execution_count": null,
      "outputs": []
    },
    {
      "cell_type": "code",
      "source": [
        ""
      ],
      "metadata": {
        "id": "Oi1qRuWd54c3"
      },
      "execution_count": null,
      "outputs": []
    },
    {
      "cell_type": "markdown",
      "source": [
        "Import Modules"
      ],
      "metadata": {
        "id": "hGBPspCP6GD3"
      }
    },
    {
      "cell_type": "code",
      "source": [
        "import pandas as pd\n",
        "import numpy as np\n",
        "import matplotlib.pyplot as plt\n",
        "import warnings\n",
        "import os\n",
        "import tqdm\n",
        "import random\n",
        "from keras.preprocessing.image import load_img\n",
        "warnings.filterwarnings('ignore')"
      ],
      "metadata": {
        "id": "5AH0uA9b6G1Q"
      },
      "execution_count": null,
      "outputs": []
    },
    {
      "cell_type": "code",
      "source": [
        ""
      ],
      "metadata": {
        "id": "syEXK12K6KEz"
      },
      "execution_count": null,
      "outputs": []
    },
    {
      "cell_type": "markdown",
      "source": [
        "Create Dataframe for Input and Output"
      ],
      "metadata": {
        "id": "Yl1x452C6NaW"
      }
    },
    {
      "cell_type": "code",
      "source": [
        "input_path = []\n",
        "label = []\n",
        "\n",
        "for class_name in os.listdir(\"PetImages\"):\n",
        "    for path in os.listdir(\"PetImages/\"+class_name):\n",
        "        if class_name == 'Cat':\n",
        "            label.append(0)\n",
        "        else:\n",
        "            label.append(1)\n",
        "        input_path.append(os.path.join(\"PetImages\",class_name,path))\n",
        "print(input_path[0],label[0])"
      ],
      "metadata": {
        "id": "VLig7j-M6OOh"
      },
      "execution_count": null,
      "outputs": []
    },
    {
      "cell_type": "code",
      "source": [
        "print(input_path[10],label[10])"
      ],
      "metadata": {
        "id": "Xdjr-OtY6UvN"
      },
      "execution_count": null,
      "outputs": []
    },
    {
      "cell_type": "code",
      "source": [
        "len(input_path)"
      ],
      "metadata": {
        "id": "QxTv8Ahs6cI1"
      },
      "execution_count": null,
      "outputs": []
    },
    {
      "cell_type": "code",
      "source": [
        "df = pd.DataFrame()\n",
        "df['images'] = input_path\n",
        "df['label'] = label\n",
        "df = df.sample(frac=1).reset_index(drop=True) #we will sufill the data(data wil show in arange manager)\n",
        "df.head()"
      ],
      "metadata": {
        "id": "6vR0d7aR6frr"
      },
      "execution_count": null,
      "outputs": []
    },
    {
      "cell_type": "code",
      "source": [
        "#delete db files\n",
        "for i in df['images']:\n",
        "  if '.jpg' not in i:\n",
        "    print(i)\n"
      ],
      "metadata": {
        "id": "Iwa2gtT46kx5"
      },
      "execution_count": null,
      "outputs": []
    },
    {
      "cell_type": "code",
      "source": [
        "import PIL\n",
        "l = []\n",
        "for image in df['images']:\n",
        "    try:\n",
        "        img = PIL.Image.open(image)\n",
        "    except:\n",
        "      l.append(image)\n",
        "l"
      ],
      "metadata": {
        "id": "62SSBKQjK4eX"
      },
      "execution_count": null,
      "outputs": []
    },
    {
      "cell_type": "code",
      "source": [
        "df = df[df['images']!='PetImages/Dog/Thumbs.db']\n",
        "df = df[df['images']!='PetImages/Cat/Thumbs.db']\n",
        "df = df[df['images']!='PetImages/Cat/666.jpg']\n",
        "df = df[df['images']!='PetImages/Dog/11702.jpg']\n",
        "len(df)"
      ],
      "metadata": {
        "id": "_43qWpQiOATN"
      },
      "execution_count": null,
      "outputs": []
    },
    {
      "cell_type": "markdown",
      "source": [
        "Exploratory Data Analysis"
      ],
      "metadata": {
        "id": "RHyZoRzk6opa"
      }
    },
    {
      "cell_type": "code",
      "source": [
        "#to display grid of images\n",
        "plt.figure(figsize=(25,25))\n",
        "temp = df[df['label']==1]['images']\n",
        "start = random.randint(0, len(temp))\n",
        "files = temp[start:start+25]\n",
        "\n",
        "for index,file in enumerate(files):\n",
        "     plt.subplot(5,5,index+1)\n",
        "     img = load_img(file)\n",
        "     imp = np.array(img)\n",
        "     plt.imshow(img)\n",
        "     plt.title('Dogs')\n",
        "     plt.axis('off')"
      ],
      "metadata": {
        "id": "Vlip5jb26pTs"
      },
      "execution_count": null,
      "outputs": []
    },
    {
      "cell_type": "code",
      "source": [
        "#to display grid of images\n",
        "plt.figure(figsize=(25,25))\n",
        "temp = df[df['label']==0]['images']\n",
        "start = random.randint(0, len(temp))\n",
        "files = temp[start:start+25]\n",
        "\n",
        "for index,file in enumerate(files):\n",
        "     plt.subplot(5,5,index+1)\n",
        "     img = load_img(file)\n",
        "     imp = np.array(img)\n",
        "     plt.imshow(img)\n",
        "     plt.title('cats')\n",
        "     plt.axis('off')"
      ],
      "metadata": {
        "id": "nGOJxCvU6uBR"
      },
      "execution_count": null,
      "outputs": []
    },
    {
      "cell_type": "code",
      "source": [
        "import seaborn as sns\n",
        "sns.countplot(df['label'])"
      ],
      "metadata": {
        "id": "pC8PbB6x8zIW"
      },
      "execution_count": null,
      "outputs": []
    },
    {
      "cell_type": "code",
      "source": [
        ""
      ],
      "metadata": {
        "id": "1JmYFXI-9ZpG"
      },
      "execution_count": null,
      "outputs": []
    },
    {
      "cell_type": "markdown",
      "source": [
        "Create DataGenerators for the Images"
      ],
      "metadata": {
        "id": "A_rYMt7W9iP4"
      }
    },
    {
      "cell_type": "code",
      "source": [
        "df['label'] = df['label'].astype('str')"
      ],
      "metadata": {
        "id": "c9NfoKTSAhYY"
      },
      "execution_count": null,
      "outputs": []
    },
    {
      "cell_type": "code",
      "source": [
        "df.head()"
      ],
      "metadata": {
        "id": "VdoSw__xA2t2"
      },
      "execution_count": null,
      "outputs": []
    },
    {
      "cell_type": "code",
      "source": [
        "#input split\n",
        "from sklearn.model_selection import train_test_split\n",
        "train, test = train_test_split(df,test_size=0.2, random_state=42)"
      ],
      "metadata": {
        "id": "WKtOg7aKGQ-a"
      },
      "execution_count": null,
      "outputs": []
    },
    {
      "cell_type": "code",
      "source": [
        "train.head()"
      ],
      "metadata": {
        "id": "UVBSn1uJGxn8"
      },
      "execution_count": null,
      "outputs": []
    },
    {
      "cell_type": "code",
      "source": [
        "test.head() #we have separate datas"
      ],
      "metadata": {
        "id": "RdVUKRcWHBot"
      },
      "execution_count": null,
      "outputs": []
    },
    {
      "cell_type": "code",
      "source": [
        "from keras.preprocessing.image import ImageDataGenerator\n",
        "train_generator = ImageDataGenerator(\n",
        "    rescale = 1./255, #normalization of images\n",
        "    rotation_range = 40, #augmention of images to avoid overfitting\n",
        "    shear_range =0.2,\n",
        "    zoom_range = 0.2,\n",
        "    horizontal_flip = True,\n",
        "    fill_mode = 'nearest'\n",
        ")\n",
        "\n",
        "val_generator =ImageDataGenerator(rescale = 1./255)\n",
        "\n",
        "train_iterator = train_generator.flow_from_dataframe(\n",
        "    train,\n",
        "    x_col='images',\n",
        "    y_col='label',\n",
        "    target_size=(128,128),\n",
        "    batch_size=512,\n",
        "    class_mode='binary'\n",
        ")\n",
        "\n",
        "val_iterator = val_generator.flow_from_dataframe(\n",
        "    test,\n",
        "    x_col='images',\n",
        "    y_col='label',\n",
        "    target_size=(128,128),\n",
        "    batch_size=512,\n",
        "    class_mode='binary'\n",
        ")"
      ],
      "metadata": {
        "id": "w-ayMLWq9rNN"
      },
      "execution_count": null,
      "outputs": []
    },
    {
      "cell_type": "code",
      "source": [
        "from keras import Sequential\n",
        "from keras.layers import Conv2D,MaxPool2D,Flatten,Dense"
      ],
      "metadata": {
        "id": "am5lhJD-_Zn4"
      },
      "execution_count": null,
      "outputs": []
    },
    {
      "cell_type": "markdown",
      "source": [
        "Model Creation"
      ],
      "metadata": {
        "id": "PjKAnjnrBf9N"
      }
    },
    {
      "cell_type": "code",
      "source": [
        "from keras import Sequential\n",
        "from keras.layers import Conv2D,MaxPool2D,Flatten,Dense\n",
        "\n",
        "model = Sequential([\n",
        "                    Conv2D(16, (3,3),activation='relu',input_shape=(128,128,3)),\n",
        "                    MaxPool2D((2,2)),\n",
        "                    Conv2D(32, (3,3), activation ='relu'),\n",
        "                    MaxPool2D((2,2)),\n",
        "                    Conv2D(64, (3,3), activation='relu'),\n",
        "                    MaxPool2D((2,2)),\n",
        "                    Flatten(),\n",
        "                    Dense(512, activation='relu'),\n",
        "                    Dense(1, activation='sigmoid')\n",
        "\n",
        "])\n"
      ],
      "metadata": {
        "id": "beFS5TcOBh7V"
      },
      "execution_count": null,
      "outputs": []
    },
    {
      "cell_type": "code",
      "source": [
        "model.compile(optimizer='adam',loss='binary_crossentropy',metrics=['accuracy'])\n",
        "model.summary()"
      ],
      "metadata": {
        "id": "4NBQIAbGEABi"
      },
      "execution_count": null,
      "outputs": []
    },
    {
      "cell_type": "code",
      "source": [
        "\n",
        "history = model.fit(train_iterator,epochs=10, validation_data=val_iterator)"
      ],
      "metadata": {
        "id": "TqblZN3RFbuw"
      },
      "execution_count": null,
      "outputs": []
    },
    {
      "cell_type": "code",
      "source": [
        ""
      ],
      "metadata": {
        "id": "Kx_qvAuENAin"
      },
      "execution_count": null,
      "outputs": []
    },
    {
      "cell_type": "code",
      "source": [
        ""
      ],
      "metadata": {
        "id": "3OsgK8OEIgAv"
      },
      "execution_count": null,
      "outputs": []
    },
    {
      "cell_type": "markdown",
      "source": [
        "Visualization of Results"
      ],
      "metadata": {
        "id": "y3QA1dzjUkiB"
      }
    },
    {
      "cell_type": "code",
      "source": [
        "acc = history.history['accuracy']\n",
        "val_acc = history.history['val_accuracy']\n",
        "epochs = range(len(acc))\n",
        "\n",
        "plt.plot(epochs,acc,'b',label='Training Accuracy')\n",
        "plt.plot(epochs,val_acc,'r',label='Validation Accuracy')\n",
        "plt.title('Accuracy Graph')\n",
        "plt.legend()\n",
        "plt.figure()\n",
        "\n",
        "loss = history.history['loss']\n",
        "val_loss = history.history['val_loss']\n",
        "plt.plot(epochs,loss,'b',label='Training Loss')\n",
        "plt.plot(epochs,val_loss,'r',label='Validation Loss')\n",
        "plt.title('Loss Graph')\n",
        "plt.legend()\n",
        "plt.figure()\n"
      ],
      "metadata": {
        "id": "R9LrOGsJUphG"
      },
      "execution_count": null,
      "outputs": []
    },
    {
      "cell_type": "code",
      "source": [
        ""
      ],
      "metadata": {
        "id": "x-lHmhXqW0rh"
      },
      "execution_count": null,
      "outputs": []
    }
  ]
}